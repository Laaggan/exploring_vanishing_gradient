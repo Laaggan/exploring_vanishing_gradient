{
 "cells": [
  {
   "cell_type": "code",
   "execution_count": 2,
   "metadata": {},
   "outputs": [],
   "source": [
    "import numpy as np\n",
    "import matplotlib.pyplot as plt\n"
   ]
  },
  {
   "cell_type": "code",
   "execution_count": 15,
   "metadata": {},
   "outputs": [
    {
     "name": "stdout",
     "output_type": "stream",
     "text": [
      "(784, 1)\n",
      "(100, 1)\n",
      "(10, 1)\n"
     ]
    }
   ],
   "source": [
    "lr = 0.1\n",
    "inputs = 784\n",
    "num_hidden = 100\n",
    "outputs = 10\n",
    "\n",
    "def sigmoid(x):\n",
    "    return (1 + np.exp(-x))**-1\n",
    "\n",
    "# One should do this numerically though and not use a function\n",
    "# store num_activations\n",
    "# gradients <- num_activations*(1-num_activations)\n",
    "def sigmoid_prime(x):\n",
    "    return sigmoid(x)*(1-sigmoid(x))\n",
    "\n",
    "def loss(y, y_hat):\n",
    "    return np.sum(np.square(y-y_hat))\n",
    "\n",
    "def feed_forward(x_i):\n",
    "    w_ji = np.random.randn(num_hidden, inputs)\n",
    "    w_kj = np.random.randn(outputs, num_hidden)\n",
    "    b_j = np.matmul(w_ji, x_i)\n",
    "    V_j = sigmoid(b_j)\n",
    "    b_k = np.matmul(w_kj, V_j)\n",
    "    O_k = sigmoid(b_k)\n",
    "    return O_k\n",
    "\n",
    "# Create random input and output\n",
    "y_k = np.random.randn(outputs, 1)\n",
    "x_i = np.random.randn(inputs, 1)\n",
    "                     \n",
    "w_ji = np.random.randn(num_hidden, inputs)\n",
    "w_kj = np.random.randn(outputs, num_hidden)\n",
    "b_j = np.matmul(w_ji, x_i)\n",
    "V_j = sigmoid(b_j)\n",
    "b_k = np.matmul(w_kj, V_j)\n",
    "O_k = sigmoid(b_k)\n",
    "\n",
    "print(x_i.shape)\n",
    "print(V_j.shape)\n",
    "print(O_k.shape)"
   ]
  },
  {
   "cell_type": "code",
   "execution_count": 13,
   "metadata": {},
   "outputs": [
    {
     "name": "stdout",
     "output_type": "stream",
     "text": [
      "(100, 10)\n"
     ]
    }
   ],
   "source": [
    "delta_k = (y_k-O_k)*sigmoid_prime(b_k)\n",
    "delta_w_kj = np.matmul(delta_k, V_j.transpose()).transpose()\n",
    "print(delta_w_kj.shape)"
   ]
  },
  {
   "cell_type": "code",
   "execution_count": 24,
   "metadata": {},
   "outputs": [
    {
     "data": {
      "text/plain": [
       "[<matplotlib.lines.Line2D at 0x27c4565f088>]"
      ]
     },
     "execution_count": 24,
     "metadata": {},
     "output_type": "execute_result"
    },
    {
     "data": {
      "image/png": "[encoded data removed]",
      "text/plain": [
       "<Figure size 432x288 with 1 Axes>"
      ]
     },
     "metadata": {
      "needs_background": "light"
     },
     "output_type": "display_data"
    }
   ],
   "source": [
    "x2 = np.linspace(-4, 4)\n",
    "plt.plot(x2, sigmoid(x2))"
   ]
  },
  {
   "cell_type": "code",
   "execution_count": 21,
   "metadata": {},
   "outputs": [
    {
     "name": "stdout",
     "output_type": "stream",
     "text": [
      "(60000, 784)\n",
      "(60000,)\n",
      "(60000, 10)\n"
     ]
    },
    {
     "data": {
      "text/plain": [
       "<matplotlib.image.AxesImage at 0x1ce4dab0448>"
      ]
     },
     "execution_count": 21,
     "metadata": {},
     "output_type": "execute_result"
    },
    {
     "data": {
      "image/png": "[encoded data removed]",
      "text/plain": [
       "<Figure size 432x288 with 1 Axes>"
      ]
     },
     "metadata": {
      "needs_background": "light"
     },
     "output_type": "display_data"
    }
   ],
   "source": [
    "from mlxtend.data import loadlocal_mnist\n",
    "X, y = loadlocal_mnist(\n",
    "        images_path='mnist_data/train-images.idx3-ubyte', \n",
    "        labels_path='mnist_data/train-labels.idx1-ubyte')\n",
    "\n",
    "print(X.shape)\n",
    "print(y.shape)\n",
    "\n",
    "nb_classes = 10\n",
    "targets = y.reshape(-1)\n",
    "one_hot_targets = np.eye(nb_classes)[targets]\n",
    "\n",
    "print(one_hot_targets.shape)\n",
    "\n",
    "plt.imshow(X[0, :].reshape(28, 28), cmap='gray')"
   ]
  },
  {
   "cell_type": "code",
   "execution_count": 22,
   "metadata": {},
   "outputs": [
    {
     "name": "stdout",
     "output_type": "stream",
     "text": [
      "5.238334056525083\n"
     ]
    }
   ],
   "source": [
    "y_hat = feed_forward(X[0, :])\n",
    "\n",
    "print(loss(one_hot_targets[0, :], y_hat))"
   ]
  },
  {
   "cell_type": "code",
   "execution_count": null,
   "metadata": {},
   "outputs": [],
   "source": []
  }
 ],
 "metadata": {
  "kernelspec": {
   "display_name": "Python 3",
   "language": "python",
   "name": "python3"
  },
  "language_info": {
   "codemirror_mode": {
    "name": "ipython",
    "version": 3
   },
   "file_extension": ".py",
   "mimetype": "text/x-python",
   "name": "python",
   "nbconvert_exporter": "python",
   "pygments_lexer": "ipython3",
   "version": "3.7.4"
  }
 },
 "nbformat": 4,
 "nbformat_minor": 4
}
