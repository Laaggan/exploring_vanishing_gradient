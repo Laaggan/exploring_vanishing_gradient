{
 "cells": [
  {
   "cell_type": "markdown",
   "metadata": {},
   "source": [
    "# Load packages and data"
   ]
  },
  {
   "cell_type": "code",
   "execution_count": 2,
   "metadata": {},
   "outputs": [
    {
     "name": "stdout",
     "output_type": "stream",
     "text": [
      "(60000, 784)\n",
      "(60000,)\n",
      "(60000, 10)\n"
     ]
    },
    {
     "data": {
      "text/plain": [
       "<Figure size 640x480 with 1 Axes>"
      ]
     },
     "metadata": {},
     "output_type": "display_data"
    }
   ],
   "source": [
    "import numpy as np\n",
    "import matplotlib.pyplot as plt\n",
    "from mlxtend.data import loadlocal_mnist\n",
    "\n",
    "X, y = loadlocal_mnist(\n",
    "        images_path='mnist_data/train-images.idx3-ubyte', \n",
    "        labels_path='mnist_data/train-labels.idx1-ubyte')\n",
    "\n",
    "print(X.shape)\n",
    "print(y.shape)\n",
    "\n",
    "nb_classes = 10\n",
    "targets = y.reshape(-1)\n",
    "one_hot_targets = np.eye(nb_classes)[targets]\n",
    "\n",
    "print(one_hot_targets.shape)\n",
    "\n",
    "plt.imshow(X[0, :].reshape(28, 28), cmap='gray')\n",
    "plt.show()"
   ]
  },
  {
   "cell_type": "markdown",
   "metadata": {},
   "source": [
    "# Initialize network architecture"
   ]
  },
  {
   "cell_type": "code",
   "execution_count": 3,
   "metadata": {},
   "outputs": [
    {
     "name": "stdout",
     "output_type": "stream",
     "text": [
      "Input shape:  (784, 1)\n",
      "First layer shape:  (100, 784)\n",
      "Hidden layer shape:  (100, 1)\n",
      "Second layer shape:  (10, 100)\n",
      "Output shape:  (10, 1)\n",
      "Ground truth shape:  (10, 1)\n"
     ]
    }
   ],
   "source": [
    "lr = 0.001\n",
    "inputs = 784\n",
    "num_hidden = 100\n",
    "outputs = 10\n",
    "\n",
    "def sigmoid(x):\n",
    "    return (1 + np.exp(-x))**-1\n",
    "\n",
    "# One should do this numerically though and not use a function\n",
    "# store num_activations\n",
    "# gradients <- num_activations*(1-num_activations)\n",
    "def sigmoid_prime(x):\n",
    "    return sigmoid(x)*(1-sigmoid(x))\n",
    "\n",
    "def loss(y, y_hat):\n",
    "    return np.sum(np.square(y-y_hat))\n",
    "\n",
    "# Create random input and output\n",
    "batch_size = 1\n",
    "\n",
    "#FIXME: transform data by normalizing it\n",
    "# ie. divide by 255\n",
    "y_k = one_hot_targets[0:batch_size, :].transpose()\n",
    "x_i = X[0:batch_size, :].transpose() / 255\n",
    "                     \n",
    "w_ji = np.random.randn(num_hidden, inputs)\n",
    "w_kj = np.random.randn(outputs, num_hidden)\n",
    "b_j = np.matmul(w_ji, x_i)\n",
    "V_j = sigmoid(b_j)\n",
    "b_k = np.matmul(w_kj, V_j)\n",
    "O_k = sigmoid(b_k)\n",
    "\n",
    "# This function does not work then\n",
    "def feed_forward(x_i):\n",
    "    global b_j, V_j, b_k, O_k\n",
    "    b_j = np.matmul(w_ji, x_i)\n",
    "    V_j = sigmoid(b_j)\n",
    "    b_k = np.matmul(w_kj, V_j)\n",
    "    O_k = sigmoid(b_k)\n",
    "\n",
    "feed_forward(x_i)\n",
    "\n",
    "print(\"Input shape: \", x_i.shape)\n",
    "print(\"First layer shape: \", w_ji.shape)\n",
    "print(\"Hidden layer shape: \", V_j.shape)\n",
    "print(\"Second layer shape: \", w_kj.shape)\n",
    "print(\"Output shape: \", O_k.shape)\n",
    "\n",
    "print(\"Ground truth shape: \", y_k.shape)"
   ]
  },
  {
   "cell_type": "code",
   "execution_count": 4,
   "metadata": {},
   "outputs": [
    {
     "name": "stdout",
     "output_type": "stream",
     "text": [
      "delta_k:  (10, 1)\n",
      "update term second layer:  (10, 100)\n",
      "DELTA_k:  (1, 100)\n",
      "update term first layer:  (100, 784)\n"
     ]
    }
   ],
   "source": [
    "'''\n",
    "Shape of neural network is\n",
    "784 -> 100 -> 10\n",
    "\n",
    "w_ji.shape = [784, 100]\n",
    "w_kj.shape = [100, 10]\n",
    "\n",
    "'''\n",
    "\n",
    "# Errors for the output layer\n",
    "delta_k = (y_k-O_k)*sigmoid_prime(b_k)\n",
    "print(\"delta_k: \", delta_k.shape)\n",
    "\n",
    "# The propagated error for the second weight matrix\n",
    "delta_w_kj = np.matmul(delta_k, V_j.transpose())\n",
    "print(\"update term second layer: \", delta_w_kj.shape)\n",
    "\n",
    "# The propagated error for the first weightmatrix\n",
    "DELTA_k = np.multiply(np.dot(delta_k.transpose(), w_kj), sigmoid_prime(b_j).transpose())\n",
    "print(\"DELTA_k: \", DELTA_k.shape)\n",
    "delta_w_ji = np.matmul(x_i, DELTA_k).transpose()\n",
    "print(\"update term first layer: \", delta_w_ji.shape)\n",
    "\n",
    "def backpropagation():\n",
    "    global delta_k, delta_w_kj, DELTA_k, delta_w_ji, y_k, O_k\n",
    "    # Second layer update term\n",
    "    delta_k = (y_k-O_k)*sigmoid_prime(b_k)\n",
    "    delta_w_kj = np.matmul(delta_k, V_j.transpose())\n",
    "    # First layer update term\n",
    "    DELTA_k = np.multiply(np.dot(delta_k.transpose(), w_kj), sigmoid_prime(b_j).transpose())\n",
    "    delta_w_ji = np.matmul(x_i, DELTA_k).transpose()\n",
    "\n",
    "def update_weights():\n",
    "    global delta_w_kj, delta_w_ji, w_kj, w_ji\n",
    "    w_ji = w_ji + lr*delta_w_ji\n",
    "    w_kj = w_kj + lr*delta_w_kj\n"
   ]
  },
  {
   "cell_type": "code",
   "execution_count": 5,
   "metadata": {},
   "outputs": [
    {
     "name": "stdout",
     "output_type": "stream",
     "text": [
      "Loss value without training:  4.262097969448646\n"
     ]
    }
   ],
   "source": [
    "print(\"Loss value without training: \", loss(y_k, O_k))"
   ]
  },
  {
   "cell_type": "code",
   "execution_count": 6,
   "metadata": {},
   "outputs": [
    {
     "name": "stdout",
     "output_type": "stream",
     "text": [
      "Iteration:  0\n",
      "Iteration:  10000\n",
      "Iteration:  20000\n",
      "Iteration:  30000\n",
      "Iteration:  40000\n",
      "Iteration:  50000\n",
      "Iteration:  60000\n",
      "Iteration:  70000\n",
      "Iteration:  80000\n",
      "Iteration:  90000\n",
      "Iteration:  100000\n",
      "Iteration:  110000\n",
      "Iteration:  120000\n",
      "Iteration:  130000\n",
      "Iteration:  140000\n",
      "Iteration:  150000\n",
      "Iteration:  160000\n",
      "Iteration:  170000\n",
      "Iteration:  180000\n",
      "Iteration:  190000\n",
      "Iteration:  200000\n",
      "Iteration:  210000\n",
      "Iteration:  220000\n",
      "Iteration:  230000\n",
      "Iteration:  240000\n",
      "Iteration:  250000\n",
      "Iteration:  260000\n",
      "Iteration:  270000\n",
      "Iteration:  280000\n",
      "Iteration:  290000\n"
     ]
    }
   ],
   "source": [
    "# N - Number of training iterations\n",
    "N = 5*60000\n",
    "batch_size = 2\n",
    "\n",
    "# Training loop\n",
    "j = 0\n",
    "for i in range(N):\n",
    "    if i % 10000 == 0:\n",
    "        print(\"Iteration: \", i)\n",
    "    if j > 60000-1:\n",
    "        j = 0\n",
    "        \n",
    "    feed_forward(X[j:(j+1), :].transpose())\n",
    "    backpropagation()\n",
    "    update_weights()\n",
    "    j += 1"
   ]
  },
  {
   "cell_type": "code",
   "execution_count": 7,
   "metadata": {},
   "outputs": [
    {
     "name": "stdout",
     "output_type": "stream",
     "text": [
      "[7.69634125e-06 9.96064957e-08 1.61733199e-04 3.90351644e-06\n",
      " 4.28920275e-06 9.99949155e-01 4.67329766e-07 3.48391272e-06\n",
      " 1.90834807e-04 1.32351083e-07]\n",
      "6\n",
      "1\n"
     ]
    },
    {
     "data": {
      "text/plain": [
       "<matplotlib.image.AxesImage at 0x182b0411308>"
      ]
     },
     "execution_count": 7,
     "metadata": {},
     "output_type": "execute_result"
    },
    {
     "data": {
      "image/png": "[encoded data removed]",
      "text/plain": [
       "<Figure size 432x288 with 1 Axes>"
      ]
     },
     "metadata": {
      "needs_background": "light"
     },
     "output_type": "display_data"
    }
   ],
   "source": [
    "ind = 3\n",
    "feed_forward(X[ind, :].transpose())\n",
    "print(O_k)\n",
    "print(np.argmax(O_k)+1)\n",
    "print(targets[ind])\n",
    "plt.imshow(X[ind, :].reshape(28, 28), cmap='gray')"
   ]
  },
  {
   "cell_type": "markdown",
   "metadata": {},
   "source": [
    "# Neural network from Welchlabs"
   ]
  },
  {
   "cell_type": "code",
   "execution_count": 14,
   "metadata": {},
   "outputs": [
    {
     "name": "stdout",
     "output_type": "stream",
     "text": [
      "3\n",
      "(105, 4)\n",
      "(105, 3)\n",
      "(45, 4)\n",
      "(45, 3)\n",
      "[[0]\n",
      " [2]\n",
      " [2]\n",
      " [2]\n",
      " [0]\n",
      " [0]\n",
      " [1]\n",
      " [0]\n",
      " [0]\n",
      " [0]\n",
      " [2]\n",
      " [0]\n",
      " [2]\n",
      " [1]\n",
      " [1]\n",
      " [1]\n",
      " [0]\n",
      " [1]\n",
      " [0]\n",
      " [2]\n",
      " [2]\n",
      " [2]\n",
      " [1]\n",
      " [2]\n",
      " [1]\n",
      " [0]\n",
      " [0]\n",
      " [0]\n",
      " [0]\n",
      " [1]\n",
      " [2]\n",
      " [0]\n",
      " [1]\n",
      " [0]\n",
      " [1]\n",
      " [0]\n",
      " [2]\n",
      " [0]\n",
      " [2]\n",
      " [1]\n",
      " [2]\n",
      " [1]\n",
      " [1]\n",
      " [0]\n",
      " [0]]\n"
     ]
    }
   ],
   "source": [
    "import sklearn.datasets as ds\n",
    "import numpy as np\n",
    "import matplotlib.pyplot as plt\n",
    "\n",
    "data = ds.load_iris()\n",
    "X = data['data']\n",
    "y = data['target']\n",
    "N = len(y)\n",
    "\n",
    "rand_ind = np.random.choice(N, N, replace=False)\n",
    "\n",
    "split = int(0.7*N)\n",
    "\n",
    "train_X = X[rand_ind[0:split]]\n",
    "train_y = np.expand_dims(y[rand_ind[0:split]], axis=1)\n",
    "\n",
    "nb_classes = len(np.unique(y))\n",
    "print(nb_classes)\n",
    "targets = train_y.reshape(-1)\n",
    "one_hot_train_y = np.eye(nb_classes)[targets]\n",
    "\n",
    "test_X = X[rand_ind[split:]]\n",
    "test_y = np.expand_dims(y[rand_ind[split:]], axis=1)\n",
    "targets = test_y.reshape(-1)\n",
    "one_hot_test_y = np.eye(nb_classes)[targets]\n",
    "\n",
    "print(train_X.shape)\n",
    "print(one_hot_train_y.shape)\n",
    "\n",
    "print(test_X.shape)\n",
    "print(one_hot_test_y.shape)\n",
    "\n",
    "print(test_y)"
   ]
  },
  {
   "cell_type": "code",
   "execution_count": 15,
   "metadata": {},
   "outputs": [],
   "source": [
    "import numpy as np\n",
    "\n",
    "class neural_network:\n",
    "    def __init__(self, activation_function, derivative_act_func, input_size, num_classes):\n",
    "        # Define hyper-parameters\n",
    "        self.input_size = input_size\n",
    "        self.hidden_layer_size = 100\n",
    "        self.output_size = num_classes\n",
    "        self.activation_function = activation_function\n",
    "        self.derivative_act_func = derivative_act_func\n",
    "        \n",
    "        self.W1 = np.random.randn(self.input_size, self.hidden_layer_size)\n",
    "        self.W2 = np.random.randn(self.hidden_layer_size, self.output_size)\n",
    "    \n",
    "    def forward(self, X):\n",
    "        # Pass data through network\n",
    "        self.z2 = np.dot(X, self.W1)\n",
    "        self.a2 = self.activation_function(self.z2)\n",
    "        self.z3 = np.dot(self.a2, self.W2)\n",
    "        yhat = self.activation_function(self.z3)\n",
    "        return yhat\n",
    "    \n",
    "    def cost_function(self, X, y):\n",
    "        self.yhat = self.forward(X)\n",
    "        C = np.sum(0.5*(y-self.yhat)**2)\n",
    "        return C\n",
    "    \n",
    "    def cost_function_prime(self, X, y):\n",
    "        self.yhat = self.forward(X)\n",
    "        delta3 = np.multiply(-(y-self.yhat), self.derivative_act_func(self.z3))\n",
    "        dJdW2 = np.dot(self.a2.transpose(), delta3)\n",
    "        \n",
    "        delta2 = np.multiply(np.dot(delta3, self.W2.transpose()), self.derivative_act_func(self.z2))\n",
    "        dJdW1 = np.dot(X.transpose(), delta2)\n",
    "        return dJdW1, dJdW2\n",
    "    \n",
    "    def get_params(self):\n",
    "        params = np.concatenate((self.W1.ravel(), self.W2.ravel()))\n",
    "        return params\n",
    "    \n",
    "    def set_params(self, params):\n",
    "        W1_start = 0\n",
    "        W1_end = self.input_size*self.hidden_layer_size\n",
    "        self.W1 = params[W1_start:W1_end].reshape((self.input_size, self.hidden_layer_size))\n",
    "        W2_end = W1_end + self.hidden_layer_size*self.output_size\n",
    "        self.W2 = params[W1_end:W2_end].reshape((self.hidden_layer_size, self.output_size))\n",
    "    \n",
    "    def compute_gradients(self, X, y):\n",
    "        dJdW1, dJdW2 = self.cost_function_prime(X, y)\n",
    "        gradients = np.concatenate((dJdW1.ravel(), dJdW2.ravel()))\n",
    "        return gradients\n",
    "\n",
    "def sigmoid(X):\n",
    "    return 1/(1 + np.exp(-X))\n",
    "\n",
    "def sigmoid_prime(X):\n",
    "    return sigmoid(X)*(1-sigmoid(X))"
   ]
  },
  {
   "cell_type": "code",
   "execution_count": 16,
   "metadata": {},
   "outputs": [
    {
     "name": "stdout",
     "output_type": "stream",
     "text": [
      "4\n"
     ]
    }
   ],
   "source": [
    "input_size = train_X.shape[1]\n",
    "print(input_size)\n",
    "\n",
    "nn = neural_network(sigmoid, sigmoid_prime, input_size, nb_classes)\n",
    "\n",
    "ind = 1\n",
    "X1, y1 = np.expand_dims(X[ind,:], axis=0), np.expand_dims(y[ind], axis=0)\n",
    "nn.forward(X1)\n",
    "result = nn.cost_function_prime(X1, y1)\n"
   ]
  },
  {
   "cell_type": "code",
   "execution_count": 17,
   "metadata": {},
   "outputs": [
    {
     "name": "stdout",
     "output_type": "stream",
     "text": [
      "4.9579962154585615e-09\n"
     ]
    }
   ],
   "source": [
    "def compute_numerical_gradient(N, X, y):\n",
    "    params_initial = N.get_params()\n",
    "    num_grad = np.zeros(params_initial.shape)\n",
    "    perturb = np.zeros(params_initial.shape)\n",
    "    p = 1e-4\n",
    "    \n",
    "    N.set_params(params_initial + p)\n",
    "    grad1 = N.compute_gradients(X, y)\n",
    "    N.set_params(params_initial - p)\n",
    "    grad2 = N.compute_gradients(X, y)\n",
    "    \n",
    "    num_grad = (grad1-grad2)/2\n",
    "    return num_grad\n",
    "\n",
    "def compute_numerical_gradient(N, X, y):\n",
    "        paramsInitial = N.get_params()\n",
    "        numgrad = np.zeros(paramsInitial.shape)\n",
    "        perturb = np.zeros(paramsInitial.shape)\n",
    "        e = 1e-4\n",
    "\n",
    "        for p in range(len(paramsInitial)):\n",
    "            #Set perturbation vector\n",
    "            perturb[p] = e\n",
    "            N.set_params(paramsInitial + perturb)\n",
    "            loss2 = N.cost_function(X, y)\n",
    "            \n",
    "            N.set_params(paramsInitial - perturb)\n",
    "            loss1 = N.cost_function(X, y)\n",
    "\n",
    "            #Compute Numerical Gradient\n",
    "            numgrad[p] = (loss2 - loss1) / (2*e)\n",
    "\n",
    "            #Return the value we changed to zero:\n",
    "            perturb[p] = 0\n",
    "            \n",
    "        #Return Params to original value:\n",
    "        N.set_params(paramsInitial)\n",
    "\n",
    "        return numgrad \n",
    "\n",
    "num_grad = compute_numerical_gradient(nn, X1, y1)\n",
    "grad = nn.compute_gradients(X1, y1)\n",
    "norm = np.linalg.norm\n",
    "\n",
    "print(norm(grad-num_grad)/norm(grad+num_grad))"
   ]
  },
  {
   "cell_type": "markdown",
   "metadata": {},
   "source": [
    "# Which means it seems to work?"
   ]
  },
  {
   "cell_type": "code",
   "execution_count": 18,
   "metadata": {},
   "outputs": [],
   "source": [
    "from scipy import optimize\n",
    "\n",
    "class trainer:\n",
    "    def __init__(self, N):\n",
    "        # N denotes neural network\n",
    "        self.N = N\n",
    "    \n",
    "    def callback_f(self, params):\n",
    "        self.N.set_params(params)\n",
    "        self.J.append(self.N.cost_function(self.X, self.y))\n",
    "    \n",
    "    def cost_function_wrapper(self, params, X, y):\n",
    "        self.N.set_params(params)\n",
    "        cost = self.N.cost_function(X, y)\n",
    "        grad = self.N.compute_gradients(X, y)\n",
    "        return cost, grad\n",
    "    \n",
    "    def train(self, X, y):\n",
    "        # Variables X and y which the callback will reference\n",
    "        self.X = X\n",
    "        self.y = y\n",
    "        \n",
    "        # Keeping track of the cost function\n",
    "        self.J = []\n",
    "        params0 = self.N.get_params()\n",
    "        \n",
    "        options = {'maxiter': 100, 'disp' : True}\n",
    "        _res = optimize.minimize(self.cost_function_wrapper, params0, jac=True, method='BFGS', \\\n",
    "                                 args=(X, y), options=options, callback=self.callback_f)\n",
    "\n",
    "        self.N.set_params(_res.x)\n",
    "        self.optimizationResults = _res"
   ]
  },
  {
   "cell_type": "code",
   "execution_count": 19,
   "metadata": {},
   "outputs": [
    {
     "data": {
      "text/plain": [
       "<__main__.trainer at 0x7fd3724ad358>"
      ]
     },
     "execution_count": 19,
     "metadata": {},
     "output_type": "execute_result"
    }
   ],
   "source": [
    "T = trainer(nn)\n",
    "T"
   ]
  },
  {
   "cell_type": "code",
   "execution_count": 20,
   "metadata": {},
   "outputs": [
    {
     "name": "stdout",
     "output_type": "stream",
     "text": [
      "Optimization terminated successfully.\n",
      "         Current function value: 1.000000\n",
      "         Iterations: 92\n",
      "         Function evaluations: 113\n",
      "         Gradient evaluations: 113\n"
     ]
    },
    {
     "data": {
      "image/png": "[encoded data removed]",
      "text/plain": [
       "<Figure size 432x288 with 1 Axes>"
      ]
     },
     "metadata": {
      "needs_background": "light"
     },
     "output_type": "display_data"
    }
   ],
   "source": [
    "T.train(train_X, one_hot_train_y)\n",
    "\n",
    "plt.plot(T.J)\n",
    "plt.show()"
   ]
  },
  {
   "cell_type": "code",
   "execution_count": 45,
   "metadata": {},
   "outputs": [
    {
     "name": "stdout",
     "output_type": "stream",
     "text": [
      "1.0\n"
     ]
    }
   ],
   "source": [
    "yhat_ohe = T.N.forward(test_X)\n",
    "yhat = np.argmax(yhat_ohe, axis=1)\n",
    "\n",
    "correctly_classified = yhat == test_y.squeeze()\n",
    "\n",
    "acc = np.sum(correctly_classified)/len(correctly_classified)\n",
    "print(acc)"
   ]
  },
  {
   "cell_type": "code",
   "execution_count": null,
   "metadata": {},
   "outputs": [],
   "source": []
  }
 ],
 "metadata": {
  "kernelspec": {
   "display_name": "Python 3",
   "language": "python",
   "name": "python3"
  },
  "language_info": {
   "codemirror_mode": {
    "name": "ipython",
    "version": 3
   },
   "file_extension": ".py",
   "mimetype": "text/x-python",
   "name": "python",
   "nbconvert_exporter": "python",
   "pygments_lexer": "ipython3",
   "version": "3.6.9"
  }
 },
 "nbformat": 4,
 "nbformat_minor": 4
}
