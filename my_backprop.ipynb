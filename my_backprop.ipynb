{
 "cells": [
  {
   "cell_type": "code",
   "execution_count": 53,
   "metadata": {},
   "outputs": [
    {
     "data": {
      "image/png": "[encoded data removed]",
      "text/plain": [
       "<Figure size 432x288 with 1 Axes>"
      ]
     },
     "metadata": {
      "needs_background": "light"
     },
     "output_type": "display_data"
    }
   ],
   "source": [
    "import numpy as np\n",
    "import matplotlib.pyplot as plt\n",
    "\n",
    "result = []\n",
    "ns = list(range(1, 50))\n",
    "def my_prod(a):\n",
    "    result = 1\n",
    "    for i in a:\n",
    "        result = result*i\n",
    "    return result\n",
    "        \n",
    "def create_days(b):\n",
    "    result = []\n",
    "    for j in b:\n",
    "        result.append(365 - j)\n",
    "    return result\n",
    "\n",
    "for n in ns:\n",
    "    days = create_days(list(range(n)))\n",
    "    i = my_prod(days)\n",
    "    j = 365**n\n",
    "    result.append(1 - (i/j))\n",
    "\n",
    "plt.plot(ns, result)\n",
    "plt.show()"
   ]
  },
  {
   "cell_type": "code",
   "execution_count": null,
   "metadata": {},
   "outputs": [],
   "source": []
  },
  {
   "cell_type": "code",
   "execution_count": 26,
   "metadata": {},
   "outputs": [
    {
     "name": "stdout",
     "output_type": "stream",
     "text": [
      "The maximum likelihood of population size is: 50\n"
     ]
    },
    {
     "data": {
      "image/png": "[encoded data removed]",
      "text/plain": [
       "<Figure size 432x288 with 1 Axes>"
      ]
     },
     "metadata": {
      "needs_background": "light"
     },
     "output_type": "display_data"
    }
   ],
   "source": [
    "import numpy as np\n",
    "import matplotlib.pyplot as plt\n",
    "from scipy.special import comb\n",
    "\n",
    "result = []\n",
    "\n",
    "k = 10\n",
    "r = 20\n",
    "m = 4\n",
    "\n",
    "# 20-50 since r >= n\n",
    "xs = range(r, 100)\n",
    "for n in xs:\n",
    "    p = (comb(k, m)*comb(n-k, r-m))/comb(n, r)\n",
    "    result.append(p)\n",
    "\n",
    "x = list(xs)\n",
    "plt.plot(x, result)\n",
    "\n",
    "max_ind = result.index(max(result))\n",
    "print(\"The maximum likelihood of population size is:\", x[max_ind])"
   ]
  },
  {
   "cell_type": "code",
   "execution_count": 40,
   "metadata": {},
   "outputs": [
    {
     "name": "stdout",
     "output_type": "stream",
     "text": [
      "Sum of dies larger than 5: [(1, 4), (1, 5), (1, 6), (2, 3), (2, 4), (2, 5), (2, 6), (3, 2), (3, 3), (3, 4), (3, 5), (3, 6), (4, 1), (4, 2), (4, 3), (4, 4), (4, 5), (4, 6), (5, 1), (5, 2), (5, 3), (5, 4), (5, 5), (5, 6), (6, 1), (6, 2), (6, 3), (6, 4), (6, 5), (6, 6)]\n",
      "First dice has larger value than second dice: [(2, 1), (3, 1), (3, 2), (4, 1), (4, 2), (4, 3), (5, 1), (5, 2), (5, 3), (5, 4), (6, 1), (6, 2), (6, 3), (6, 4), (6, 5)]\n",
      "The first value is 4: [(4, 1), (4, 2), (4, 3), (4, 4), (4, 5), (4, 6)]\n"
     ]
    }
   ],
   "source": [
    "data = []\n",
    "\n",
    "for i in range(1, 7):\n",
    "    for j in range(1, 7):\n",
    "        data.append((i, j))\n",
    "\n",
    "A = []\n",
    "B = []\n",
    "C = []\n",
    "for x in data:\n",
    "    if x[0] > x[1]:\n",
    "        B.append(x)\n",
    "    if x[0] + x[1] >= 5:\n",
    "        A.append(x)\n",
    "    if x[0] == 4:\n",
    "        C.append(x)\n",
    "\n",
    "print(\"Sum of dies larger than 5:\", A)\n",
    "print(\"First dice has larger value than second dice:\", B)\n",
    "print(\"The first value is 4:\", C)"
   ]
  },
  {
   "cell_type": "code",
   "execution_count": 50,
   "metadata": {},
   "outputs": [
    {
     "name": "stdout",
     "output_type": "stream",
     "text": [
      "{(6, 4), (3, 2), (5, 4), (4, 1), (4, 5), (2, 1), (6, 2), (5, 1), (4, 2), (6, 5), (5, 3), (4, 6), (6, 1), (3, 1), (4, 4), (6, 3), (4, 3), (5, 2)}\n",
      "18\n",
      "{(4, 6), (4, 5), (4, 4), (4, 3), (4, 2), (4, 1)}\n",
      "6\n",
      "{(6, 4), (3, 2), (5, 4), (4, 6), (4, 5), (6, 1), (3, 1), (4, 4), (5, 2), (2, 1), (6, 3), (6, 2), (4, 3), (4, 2), (5, 1), (4, 1), (6, 5), (5, 3)}\n",
      "18\n"
     ]
    }
   ],
   "source": [
    "BuC = set(B) | set(C)\n",
    "print(BuC)\n",
    "print(len(BuC))\n",
    "\n",
    "AiC = set(A) & set(C)\n",
    "print(AiC)\n",
    "print(len(AiC))\n",
    "\n",
    "AiBuC = set(A) & (set(B) | set(C))\n",
    "print(AiBuC)\n",
    "print(len(AiBuC))"
   ]
  },
  {
   "cell_type": "code",
   "execution_count": null,
   "metadata": {},
   "outputs": [],
   "source": [
    "colors = ('r', 'g', 'b')\n",
    "\n",
    "for i in colors:\n",
    "    for i in colors:\n",
    "        for i in colors:"
   ]
  },
  {
   "cell_type": "code",
   "execution_count": 51,
   "metadata": {},
   "outputs": [
    {
     "data": {
      "text/plain": [
       "0.07476635514018691"
      ]
     },
     "execution_count": 51,
     "metadata": {},
     "output_type": "execute_result"
    }
   ],
   "source": [
    "(0.8*0.01)/(0.8*0.01+0.1*0.99)"
   ]
  },
  {
   "cell_type": "code",
   "execution_count": 54,
   "metadata": {},
   "outputs": [
    {
     "name": "stdout",
     "output_type": "stream",
     "text": [
      "2.9768665836775126e+29\n"
     ]
    }
   ],
   "source": [
    "result = []\n",
    "for i in range(5):\n",
    "    result.append(comb(52-5*i, 5))\n",
    "\n",
    "print(my_prod(result))"
   ]
  },
  {
   "cell_type": "code",
   "execution_count": null,
   "metadata": {},
   "outputs": [],
   "source": []
  }
 ],
 "metadata": {
  "kernelspec": {
   "display_name": "Python 3",
   "language": "python",
   "name": "python3"
  },
  "language_info": {
   "codemirror_mode": {
    "name": "ipython",
    "version": 3
   },
   "file_extension": ".py",
   "mimetype": "text/x-python",
   "name": "python",
   "nbconvert_exporter": "python",
   "pygments_lexer": "ipython3",
   "version": "3.7.4"
  }
 },
 "nbformat": 4,
 "nbformat_minor": 4
}
